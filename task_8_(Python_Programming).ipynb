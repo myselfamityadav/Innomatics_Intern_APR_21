{
  "nbformat": 4,
  "nbformat_minor": 5,
  "metadata": {
    "kernelspec": {
      "display_name": "Python 3",
      "language": "python",
      "name": "python3"
    },
    "language_info": {
      "codemirror_mode": {
        "name": "ipython",
        "version": 3
      },
      "file_extension": ".py",
      "mimetype": "text/x-python",
      "name": "python",
      "nbconvert_exporter": "python",
      "pygments_lexer": "ipython3",
      "version": "3.9.1"
    },
    "colab": {
      "name": "task 8-(Python Programming).ipynb",
      "provenance": []
    }
  },
  "cells": [
    {
      "cell_type": "code",
      "metadata": {
        "id": "suited-bubble",
        "outputId": "009734aa-1665-4ff1-b5a4-4ad1b24ab1a6"
      },
      "source": [
        "# question 1 ( binomial distribution-1)\n",
        "\n",
        "def fact(n):\n",
        "    return 1 if n == 0 else n*fact(n-1)\n",
        "\n",
        "def comb(n, x):\n",
        "    return fact(n) / (fact(x) * fact(n-x))\n",
        "\n",
        "def b(x, n, p):\n",
        "    return comb(n, x) * p**x * (1-p)**(n-x)\n",
        "\n",
        "l, r = list(map(float, input().split(\" \")))\n",
        "odds = l / r\n",
        "print(round(sum([b(i, 6, odds / (1 + odds)) for i in range(3, 7)]), 3))"
      ],
      "id": "suited-bubble",
      "execution_count": null,
      "outputs": [
        {
          "output_type": "stream",
          "text": [
            "1.09 1\n",
            "0.696\n"
          ],
          "name": "stdout"
        }
      ]
    },
    {
      "cell_type": "code",
      "metadata": {
        "id": "precise-dictionary",
        "outputId": "74c694f0-fc5e-4923-ef9d-62b2884b4453"
      },
      "source": [
        "# question 2 ( binomial distribution-2) \n",
        "\n",
        "from math import factorial\n",
        "r, p = map(float, input().split())\n",
        "def comb(n, r):\n",
        "    return factorial(n) / (factorial(r) * factorial(n - r))\n",
        "print(round(sum([comb(p, i) * (r / 100)**i * ((100 - r) / 100)**(p - i)  for i in range(0, 3)]), 3))\n",
        "print(round(sum([comb(p, i) * (r / 100)**i * ((100 - r) / 100)**(p - i)  for i in range(2, 11)]), 3))"
      ],
      "id": "precise-dictionary",
      "execution_count": null,
      "outputs": [
        {
          "output_type": "stream",
          "text": [
            "12 10\n",
            "0.891\n",
            "0.342\n"
          ],
          "name": "stdout"
        },
        {
          "output_type": "stream",
          "text": [
            "<ipython-input-1-8a79aca9e20f>:4: DeprecationWarning: Using factorial() with floats is deprecated\n",
            "  return factorial(n) / (factorial(r) * factorial(n - r))\n"
          ],
          "name": "stderr"
        }
      ]
    },
    {
      "cell_type": "code",
      "metadata": {
        "id": "systematic-measurement",
        "outputId": "33cc53c9-6c94-4323-81e3-c60f466e6cfa"
      },
      "source": [
        "# question 3 ( normal distribution-1)\n",
        "\n",
        "import math\n",
        "import scipy.stats as st\n",
        "\n",
        "mean=int(input())\n",
        "std = int(input())\n",
        "p1=st.norm.cdf(19.5, mean, std)\n",
        "p2=st.norm.cdf(22,mean, std)-st.norm.cdf(20, mean, std)\n",
        "print('%.3f\\n%.3f' % (p1,p2))\n"
      ],
      "id": "systematic-measurement",
      "execution_count": null,
      "outputs": [
        {
          "output_type": "stream",
          "text": [
            "20\n",
            "2\n",
            "0.401\n",
            "0.341\n"
          ],
          "name": "stdout"
        }
      ]
    },
    {
      "cell_type": "code",
      "metadata": {
        "id": "quantitative-cleveland",
        "outputId": "3c26db44-1883-43b5-f62c-3a06f55eb903"
      },
      "source": [
        "# question 4 (normal distribution day 5 -2)\n",
        "\n",
        "import math\n",
        "\n",
        "\n",
        "def cdf(x, mean, std):\n",
        "    return 1/2*(1+math.erf((x-mean) / std / 2**(1/2)))\n",
        "\n",
        "\n",
        "mean = 70\n",
        "std = 10\n",
        "\n",
        "# Scored higher than 80\n",
        "print(round((1 - cdf(80, mean, std))*100, 2))\n",
        "# Passed the test (i.e., have a grade >= 60)?\n",
        "print(round((1 - cdf(60, mean, std))*100, 2))\n",
        "# Failed the test (i.e., have a grade < 60)?\n",
        "print(round(cdf(60, mean, std)*100, 2))"
      ],
      "id": "quantitative-cleveland",
      "execution_count": null,
      "outputs": [
        {
          "output_type": "stream",
          "text": [
            "15.87\n",
            "84.13\n",
            "15.87\n"
          ],
          "name": "stdout"
        }
      ]
    },
    {
      "cell_type": "code",
      "metadata": {
        "id": "verified-membership",
        "outputId": "667d0ad3-dbb4-46bb-ddf4-a7543b4c7c0c"
      },
      "source": [
        "# question 5 (the central limit theorem-1)\n",
        "\n",
        "import math\n",
        "\n",
        "x = int(input())\n",
        "n = int(input())\n",
        "mu = int(input())\n",
        "sigma = int(input())\n",
        "\n",
        "mu_sum = n * mu \n",
        "sigma_sum = math.sqrt(n) * sigma\n",
        "\n",
        "def cdf(x, mu, sigma):\n",
        "    Z = (x - mu)/sigma\n",
        "    return 0.5*(1 + math.erf(Z/(math.sqrt(2))))\n",
        "\n",
        "print(round(cdf(x, mu_sum, sigma_sum), 4))"
      ],
      "id": "verified-membership",
      "execution_count": null,
      "outputs": [
        {
          "output_type": "stream",
          "text": [
            "9800\n",
            "49\n",
            "205\n",
            "15\n",
            "0.0098\n"
          ],
          "name": "stdout"
        }
      ]
    },
    {
      "cell_type": "code",
      "metadata": {
        "id": "peaceful-harassment",
        "outputId": "82b062ef-3454-4410-e8c6-5d299307d3f0"
      },
      "source": [
        "# question 6(the central limit theorem -2)\n",
        "\n",
        "import math\n",
        "mean = int(input())\n",
        "std = int(input())\n",
        "n = float(input())\n",
        "z = float(input())\n",
        "\n",
        "# characteristics of sample\n",
        "mean = mean\n",
        "std = std / n**(1/2)\n",
        "\n",
        "# Find the 95% interval\n",
        "print(round(mean - std * z, 2))\n",
        "print(round(mean + std * z, 2))"
      ],
      "id": "peaceful-harassment",
      "execution_count": null,
      "outputs": [
        {
          "output_type": "stream",
          "text": [
            "250\n",
            "100\n",
            "2.4\n",
            "2.0\n",
            "120.9\n",
            "379.1\n"
          ],
          "name": "stdout"
        }
      ]
    },
    {
      "cell_type": "code",
      "metadata": {
        "id": "federal-stamp",
        "outputId": "a932c35d-2e26-49f2-ca48-1392a75a000a"
      },
      "source": [
        "# question 7 (the central limit theroem -3)\n",
        "\n",
        "mean = int(input())\n",
        "std = int(input())\n",
        "n = int(input())\n",
        "z = float(input())\n",
        "\n",
        "# characteristics of sample\n",
        "mean = mean\n",
        "std = std / n**(1/2)\n",
        "\n",
        "# Find the 95% interval\n",
        "print(round(mean - std * z, 2))\n",
        "print(round(mean + std * z, 2))"
      ],
      "id": "federal-stamp",
      "execution_count": null,
      "outputs": [
        {
          "output_type": "stream",
          "text": [
            "500\n",
            "80\n",
            "100\n",
            "1.96\n",
            "484.32\n",
            "515.68\n"
          ],
          "name": "stdout"
        }
      ]
    },
    {
      "cell_type": "code",
      "metadata": {
        "id": "built-duncan",
        "outputId": "fa6c6e33-2e68-4725-cfe2-d6dbb58b7dec"
      },
      "source": [
        "# question 8( pearson correlation coffecient-1)\n",
        "\n",
        "N = int(input())\n",
        "X = list(map(float,input().strip().split()))\n",
        "Y = list(map(float,input().strip().split()))\n",
        "\n",
        "mu_x = sum(X) / N\n",
        "mu_y = sum(Y) / N\n",
        "\n",
        "stdv_x = (sum([(i - mu_x)**2 for i in X]) / N)**0.5\n",
        "stdv_y = (sum([(i - mu_y)**2 for i in Y]) / N)**0.5\n",
        "\n",
        "\n",
        "covariance = sum([(X[i] - mu_x) * (Y[i] -mu_y) for i in range(N)])\n",
        "\n",
        "correlation_coefficient = covariance / (N * stdv_x * stdv_y)\n",
        "\n",
        "print(round(correlation_coefficient,3))"
      ],
      "id": "built-duncan",
      "execution_count": null,
      "outputs": [
        {
          "output_type": "stream",
          "text": [
            "10\n",
            "10 9.8 8 7.8 7.7 7 6 5 4 2 \n",
            "200 44 32 24 22 17 15 12 8 4\n",
            "0.612\n"
          ],
          "name": "stdout"
        }
      ]
    },
    {
      "cell_type": "code",
      "metadata": {
        "id": "focused-latter",
        "outputId": "7cc11702-30be-46a2-b24e-a805cd30b31d"
      },
      "source": [
        "# question 9(least square regression line)\n",
        "\n",
        "n = 5\n",
        "xy = [map(int, input().split()) for _ in range(n)]\n",
        "sx, sy, sx2, sxy = map(sum, zip(*[(x, y, x**2, x * y) for x, y in xy]))\n",
        "b = (n * sxy - sx * sy) / (n * sx2 - sx**2)\n",
        "a = (sy / n) - b * (sx / n)\n",
        "print('{:.3f}'.format(a + b * 80))"
      ],
      "id": "focused-latter",
      "execution_count": null,
      "outputs": [
        {
          "output_type": "stream",
          "text": [
            "95 85\n",
            "85 95\n",
            "80 70\n",
            "70 65\n",
            "60 70\n",
            "78.288\n"
          ],
          "name": "stdout"
        }
      ]
    },
    {
      "cell_type": "code",
      "metadata": {
        "id": "optical-honduras",
        "outputId": "4cf1223c-bff7-4349-d703-dd062008252b"
      },
      "source": [
        "# question 10(multiple linear regression)\n",
        "\n",
        "import numpy as np\n",
        "m,n = [int(i) for i in input().strip().split(' ')]\n",
        "X = []\n",
        "Y = []\n",
        "for i in range(n):\n",
        "    data = input().strip().split(' ')\n",
        "    X.append(data[:m])\n",
        "    Y.append(data[m:])\n",
        "q = int(input().strip())\n",
        "X_new = []\n",
        "for x in range(q):\n",
        "    X_new.append(input().strip().split(' '))\n",
        "X = np.array(X,float)\n",
        "Y = np.array(Y,float)\n",
        "X_new = np.array(X_new,float)\n",
        "\n",
        "#center\n",
        "X_R = X-np.mean(X,axis=0)\n",
        "Y_R = Y-np.mean(Y)\n",
        "\n",
        "#calculate beta\n",
        "beta = np.dot(np.linalg.inv(np.dot(X_R.T,X_R)),np.dot(X_R.T,Y_R))\n",
        "\n",
        "#predict\n",
        "X_new_R = X_new-np.mean(X,axis=0)\n",
        "Y_new_R = np.dot(X_new_R,beta)\n",
        "Y_new = Y_new_R + np.mean(Y)\n",
        "\n",
        "#print\n",
        "for i in Y_new:\n",
        "    print(round(float(i),2))"
      ],
      "id": "optical-honduras",
      "execution_count": null,
      "outputs": [
        {
          "output_type": "stream",
          "text": [
            "2 7\n",
            "0.18 0.89 109.85\n",
            "1.0 0.26 155.72\n",
            "0.92 0.11 137.66\n",
            "0.07 0.37 76.17\n",
            "0.85 0.16 139.75\n",
            "0.99 0.41 162.6\n",
            "0.87 0.47 151.77\n",
            "4\n",
            "0.49 0.18\n",
            "0.57 0.83\n",
            "0.56 0.64\n",
            "0.76 0.18\n",
            "105.21\n",
            "142.67\n",
            "132.94\n",
            "129.7\n"
          ],
          "name": "stdout"
        }
      ]
    },
    {
      "cell_type": "code",
      "metadata": {
        "id": "heard-chester"
      },
      "source": [
        ""
      ],
      "id": "heard-chester",
      "execution_count": null,
      "outputs": []
    }
  ]
}