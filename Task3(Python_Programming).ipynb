{
  "nbformat": 4,
  "nbformat_minor": 0,
  "metadata": {
    "colab": {
      "name": "Task3(Python Programming).ipynb",
      "provenance": [],
      "collapsed_sections": []
    },
    "kernelspec": {
      "name": "python3",
      "display_name": "Python 3"
    },
    "language_info": {
      "name": "python"
    }
  },
  "cells": [
    {
      "cell_type": "code",
      "metadata": {
        "colab": {
          "base_uri": "https://localhost:8080/"
        },
        "id": "6majegOHqYrc",
        "outputId": "6e68de3b-d783-424e-c61a-3c8157ab7cbf"
      },
      "source": [
        "#Q1)\n",
        "import cmath\n",
        "\n",
        "if __name__ == \"__main__\":\n",
        "    cnum = complex(input().strip())\n",
        "    \n",
        "    print(abs(cnum))\n",
        "    print(cmath.phase(cnum))"
      ],
      "execution_count": 1,
      "outputs": [
        {
          "output_type": "stream",
          "text": [
            "1+2j\n",
            "2.23606797749979\n",
            "1.1071487177940904\n"
          ],
          "name": "stdout"
        }
      ]
    },
    {
      "cell_type": "code",
      "metadata": {
        "colab": {
          "base_uri": "https://localhost:8080/"
        },
        "id": "5gqlfm3KtNvU",
        "outputId": "64cb05a9-6426-43af-a044-e182f4864a9e"
      },
      "source": [
        "#Q2)\n",
        "from math import atan\n",
        "from math import degrees\n",
        "\n",
        "if __name__ == \"__main__\":\n",
        "    ab = int(input().strip())\n",
        "    bc = int(input().strip())\n",
        "    \n",
        "    print(\"{}°\".format(int(round(degrees(atan(ab/bc))))))"
      ],
      "execution_count": 2,
      "outputs": [
        {
          "output_type": "stream",
          "text": [
            "10\n",
            "10\n",
            "45°\n"
          ],
          "name": "stdout"
        }
      ]
    },
    {
      "cell_type": "code",
      "metadata": {
        "colab": {
          "base_uri": "https://localhost:8080/"
        },
        "id": "tF2nvQqfuTbO",
        "outputId": "f8ca8b4c-1de1-4490-bd68-df325ed277e9"
      },
      "source": [
        "#Q3)\n",
        "\n",
        "\n",
        "\n",
        "for i in range(1,int(input())+1): #More than 2 lines will result in 0 score. Do not leave a blank line also\n",
        "    print((10**i//9)**2)"
      ],
      "execution_count": 3,
      "outputs": [
        {
          "output_type": "stream",
          "text": [
            "5\n",
            "1\n",
            "121\n",
            "12321\n",
            "1234321\n",
            "123454321\n"
          ],
          "name": "stdout"
        }
      ]
    },
    {
      "cell_type": "code",
      "metadata": {
        "colab": {
          "base_uri": "https://localhost:8080/"
        },
        "id": "1gdshxmnvlWR",
        "outputId": "ec962c8b-fc01-4dc0-c574-20a7cfc7a8ee"
      },
      "source": [
        "#Q4)\n",
        "output = divmod(int(input().strip()), int(input().strip()))\n",
        "print(output[0])\n",
        "print(output[1])\n",
        "print(output)"
      ],
      "execution_count": 4,
      "outputs": [
        {
          "output_type": "stream",
          "text": [
            "177\n",
            "10\n",
            "17\n",
            "7\n",
            "(17, 7)\n"
          ],
          "name": "stdout"
        }
      ]
    },
    {
      "cell_type": "code",
      "metadata": {
        "colab": {
          "base_uri": "https://localhost:8080/"
        },
        "id": "OGEJALhcwVgj",
        "outputId": "b700e42c-a636-45d2-b976-b62bbd8d8c4b"
      },
      "source": [
        "#Q5)\n",
        "if __name__ == \"__main__\":\n",
        "    a = int(input().strip())\n",
        "    b = int(input().strip())\n",
        "    m = int(input().strip())\n",
        "    \n",
        "    print(pow(a, b))\n",
        "    print(pow(a, b, m))\n"
      ],
      "execution_count": 6,
      "outputs": [
        {
          "output_type": "stream",
          "text": [
            "3\n",
            "4\n",
            "5\n",
            "81\n",
            "1\n"
          ],
          "name": "stdout"
        }
      ]
    },
    {
      "cell_type": "code",
      "metadata": {
        "colab": {
          "base_uri": "https://localhost:8080/"
        },
        "id": "xJtsK3XTw1-2",
        "outputId": "f19b9d54-e166-4f5e-97ae-dfa88975f35c"
      },
      "source": [
        "#6)\n",
        "if __name__ == \"__main__\":\n",
        "    a = int(input().strip())\n",
        "    b = int(input().strip())\n",
        "    c = int(input().strip())\n",
        "    d = int(input().strip())\n",
        "    \n",
        "    print(pow(a, b) + pow(c, d))"
      ],
      "execution_count": 9,
      "outputs": [
        {
          "output_type": "stream",
          "text": [
            "29\n",
            "9\n",
            "7\n",
            "27\n",
            "65712362378041426115412\n"
          ],
          "name": "stdout"
        }
      ]
    },
    {
      "cell_type": "code",
      "metadata": {
        "colab": {
          "base_uri": "https://localhost:8080/"
        },
        "id": "HLgZyJlgx7en",
        "outputId": "0bb23ecc-eb35-4225-f22f-d111cbd83cb3"
      },
      "source": [
        "# question 7\n",
        "for i in range(1,int(input())): #More than 2 lines will result in 0 score. Do not leave a blank line also\n",
        "    print((round(pow(10,i)/9)*i))"
      ],
      "execution_count": 11,
      "outputs": [
        {
          "output_type": "stream",
          "text": [
            "5\n",
            "1\n",
            "22\n",
            "333\n",
            "4444\n"
          ],
          "name": "stdout"
        }
      ]
    },
    {
      "cell_type": "code",
      "metadata": {
        "id": "v0aiga6o_Uvl"
      },
      "source": [
        ""
      ],
      "execution_count": null,
      "outputs": []
    }
  ]
}