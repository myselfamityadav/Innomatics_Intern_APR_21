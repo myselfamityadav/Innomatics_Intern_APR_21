{
  "nbformat": 4,
  "nbformat_minor": 0,
  "metadata": {
    "colab": {
      "name": "Task-1 (Python programming).ipynb",
      "provenance": [],
      "collapsed_sections": []
    },
    "kernelspec": {
      "name": "python3",
      "display_name": "Python 3"
    },
    "language_info": {
      "name": "python"
    }
  },
  "cells": [
    {
      "cell_type": "code",
      "metadata": {
        "colab": {
          "base_uri": "https://localhost:8080/"
        },
        "id": "NeHqFxaZ3VjX",
        "outputId": "fd4989d9-73d3-4e38-a7ab-f384b28c3bc3"
      },
      "source": [
        "#Q1)\n",
        "print(\"Hello, World!\")\n"
      ],
      "execution_count": 1,
      "outputs": [
        {
          "output_type": "stream",
          "text": [
            "Hello, World!\n"
          ],
          "name": "stdout"
        }
      ]
    },
    {
      "cell_type": "code",
      "metadata": {
        "colab": {
          "base_uri": "https://localhost:8080/"
        },
        "id": "gSxLhVvl3lHz",
        "outputId": "0769233d-0092-43a5-fbab-deecc48c1fe1"
      },
      "source": [
        "#Q2)\n",
        "n = int(input().strip())\n",
        "if((n%2==0) &(n>=2) & (n<=5)):\n",
        "    print(\"Not Weird\")\n",
        "elif((n%2==0) & (n>=6) & (n<=20)):\n",
        "    print(\"Weird\")\n",
        "elif((n%2==0) & (n>20)):\n",
        "    print(\"Not Weird\")\n",
        "else:\n",
        "    print(\"Weird\")\n",
        "    \n",
        "    "
      ],
      "execution_count": 5,
      "outputs": [
        {
          "output_type": "stream",
          "text": [
            "5\n",
            "Weird\n"
          ],
          "name": "stdout"
        }
      ]
    },
    {
      "cell_type": "code",
      "metadata": {
        "colab": {
          "base_uri": "https://localhost:8080/"
        },
        "id": "3MV-ABGn-x40",
        "outputId": "6d7a86b7-4871-4352-a606-7e0a138fd9c2"
      },
      "source": [
        "#Q3)\n",
        "a=int(input())\n",
        "b=int(input())\n",
        "c=a+b\n",
        "d=a-b\n",
        "e=a*b\n",
        "print(c)\n",
        "print(d)\n",
        "print(e)"
      ],
      "execution_count": 9,
      "outputs": [
        {
          "output_type": "stream",
          "text": [
            "2\n",
            "5\n",
            "7\n",
            "-3\n",
            "10\n"
          ],
          "name": "stdout"
        }
      ]
    },
    {
      "cell_type": "code",
      "metadata": {
        "colab": {
          "base_uri": "https://localhost:8080/"
        },
        "id": "d2-lLd8gCFMC",
        "outputId": "a246a9b3-435d-4b72-8f66-a8048a6fb0dd"
      },
      "source": [
        "#Q4)\n",
        "a=int(input())\n",
        "b=int(input())\n",
        "c=a//b\n",
        "d=a/b\n",
        "print(c)\n",
        "print(d)"
      ],
      "execution_count": 14,
      "outputs": [
        {
          "output_type": "stream",
          "text": [
            "5\n",
            "2\n",
            "2\n",
            "2.5\n"
          ],
          "name": "stdout"
        }
      ]
    },
    {
      "cell_type": "code",
      "metadata": {
        "colab": {
          "base_uri": "https://localhost:8080/"
        },
        "id": "0ZQ9TThdDcEs",
        "outputId": "6a50963b-1e9c-44e7-e0fe-516505303827"
      },
      "source": [
        "#Q5)\n",
        "n=int(input())\n",
        "for i in range(0,n):\n",
        "  print(i*i)"
      ],
      "execution_count": 16,
      "outputs": [
        {
          "output_type": "stream",
          "text": [
            "10\n",
            "0\n",
            "1\n",
            "4\n",
            "9\n",
            "16\n",
            "25\n",
            "36\n",
            "49\n",
            "64\n",
            "81\n"
          ],
          "name": "stdout"
        }
      ]
    },
    {
      "cell_type": "code",
      "metadata": {
        "colab": {
          "base_uri": "https://localhost:8080/"
        },
        "id": "j1pftaq5E-Su",
        "outputId": "d59325f9-3202-4b67-86ed-f8c9580b417f"
      },
      "source": [
        "#Q6)\n",
        "def is_leap(year):\n",
        "    leap=False\n",
        "    if(year%400==0):\n",
        "        leap=True\n",
        "    elif(year%100==0):\n",
        "        leap=False\n",
        "    elif(year%4==0):\n",
        "        leap=True\n",
        "    return leap\n",
        "year = int(input())\n",
        "print(is_leap(year))"
      ],
      "execution_count": 24,
      "outputs": [
        {
          "output_type": "stream",
          "text": [
            "2008\n",
            "True\n"
          ],
          "name": "stdout"
        }
      ]
    },
    {
      "cell_type": "code",
      "metadata": {
        "colab": {
          "base_uri": "https://localhost:8080/"
        },
        "id": "eclLfkK0gV9X",
        "outputId": "4bbb02a3-8204-416e-8c14-405d81ceea92"
      },
      "source": [
        "#Q7)\n",
        "n=int(input())\n",
        "for i in range(1,n+1):\n",
        "  print(i,end=\"\")\n",
        "\n"
      ],
      "execution_count": 23,
      "outputs": [
        {
          "output_type": "stream",
          "text": [
            "5\n",
            "12345"
          ],
          "name": "stdout"
        }
      ]
    },
    {
      "cell_type": "code",
      "metadata": {
        "id": "WbivFP__iQP_"
      },
      "source": [
        ""
      ],
      "execution_count": null,
      "outputs": []
    }
  ]
}