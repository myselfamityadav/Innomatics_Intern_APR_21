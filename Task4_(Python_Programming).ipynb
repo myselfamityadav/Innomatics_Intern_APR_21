{
  "nbformat": 4,
  "nbformat_minor": 5,
  "metadata": {
    "kernelspec": {
      "display_name": "Python 3",
      "language": "python",
      "name": "python3"
    },
    "language_info": {
      "codemirror_mode": {
        "name": "ipython",
        "version": 3
      },
      "file_extension": ".py",
      "mimetype": "text/x-python",
      "name": "python",
      "nbconvert_exporter": "python",
      "pygments_lexer": "ipython3",
      "version": "3.9.1"
    },
    "colab": {
      "name": "Task4 (Python Programming).ipynb",
      "provenance": [],
      "collapsed_sections": []
    }
  },
  "cells": [
    {
      "cell_type": "code",
      "metadata": {
        "id": "instructional-latter",
        "outputId": "a2c84f68-3088-4877-fd1a-ac3ead79764c"
      },
      "source": [
        "#question 1\n",
        "\n",
        "def change(c):\n",
        "    if str.islower(c):\n",
        "        return str.upper(c)\n",
        "    else:\n",
        "        return str.lower(c)\n",
        "    \n",
        "def swap_case(s):\n",
        "    return ''.join(map(change,s))\n",
        "if __name__ == '__main__':\n",
        "    s = input()\n",
        "    result = swap_case(s)\n",
        "    print(result)"
      ],
      "id": "instructional-latter",
      "execution_count": null,
      "outputs": [
        {
          "output_type": "stream",
          "text": [
            "HackerRank.com presents \"Pythonist 2\".\n",
            "hACKERrANK.COM PRESENTS \"pYTHONIST 2\".\n"
          ],
          "name": "stdout"
        }
      ]
    },
    {
      "cell_type": "code",
      "metadata": {
        "id": "liquid-appointment",
        "outputId": "5879abb8-c26e-4c8c-c257-43fa14843e53"
      },
      "source": [
        "# question 2\n",
        "\n",
        "def split_and_join(line):\n",
        "    # write your code here\n",
        "    x=line.split(\" \")\n",
        "    x='-'.join(x)\n",
        "    return x\n",
        "\n",
        "if __name__ == '__main__':\n",
        "    line = input()\n",
        "    result = split_and_join(line)\n",
        "    print(result)"
      ],
      "id": "liquid-appointment",
      "execution_count": null,
      "outputs": [
        {
          "output_type": "stream",
          "text": [
            "this is a string   \n",
            "this-is-a-string---\n"
          ],
          "name": "stdout"
        }
      ]
    },
    {
      "cell_type": "code",
      "metadata": {
        "id": "ruled-reliance",
        "outputId": "555c3592-d816-4d69-cb62-566c57201a50"
      },
      "source": [
        "# question 3\n",
        "\n",
        "def print_full_name(first, last):\n",
        "    # Write your code here\n",
        "    print(\"Hello \"+first+\" \"+last+\"! You just delved into python.\")\n",
        "    \n",
        "if __name__ == '__main__':\n",
        "    first_name = input()\n",
        "    last_name = input()\n",
        "    print_full_name(first_name, last_name)"
      ],
      "id": "ruled-reliance",
      "execution_count": null,
      "outputs": [
        {
          "output_type": "stream",
          "text": [
            "Ross\n",
            "Taylor\n",
            "Hello Ross Taylor! You just delved into python.\n"
          ],
          "name": "stdout"
        }
      ]
    },
    {
      "cell_type": "code",
      "metadata": {
        "id": "retired-lighting",
        "outputId": "c1311426-a18a-4f11-a13d-c2df3c802b34"
      },
      "source": [
        "# question 4\n",
        "\n",
        "def mutate_string(string, position, character):\n",
        "    return string[:position]+character+string[position+1:]\n",
        "\n",
        "if __name__ == '__main__':\n",
        "    s = input()\n",
        "    i, c = input().split()\n",
        "    s_new = mutate_string(s, int(i), c)\n",
        "    print(s_new)"
      ],
      "id": "retired-lighting",
      "execution_count": null,
      "outputs": [
        {
          "output_type": "stream",
          "text": [
            "abracadabra\n",
            "5 k\n",
            "abrackdabra\n"
          ],
          "name": "stdout"
        }
      ]
    },
    {
      "cell_type": "code",
      "metadata": {
        "id": "desperate-cleaners",
        "outputId": "087b0058-8bd8-40f9-a614-36c601f1bb34"
      },
      "source": [
        "# question 5\n",
        "\n",
        "def count_substring(string, sub_string):\n",
        "    count = 0\n",
        "    for i in range(len(string)-len(sub_string)+1):\n",
        "        if (string[i:i+len(sub_string)] == sub_string):\n",
        "            count += 1\n",
        "    return count\n",
        "if __name__ == '__main__':\n",
        "    string = input().strip()\n",
        "    sub_string = input().strip()\n",
        "    \n",
        "    count = count_substring(string, sub_string)\n",
        "    print(count)"
      ],
      "id": "desperate-cleaners",
      "execution_count": null,
      "outputs": [
        {
          "output_type": "stream",
          "text": [
            "ABCDCDC \n",
            "CDC\n",
            "2\n"
          ],
          "name": "stdout"
        }
      ]
    },
    {
      "cell_type": "code",
      "metadata": {
        "id": "arbitrary-settle",
        "outputId": "946e652b-d988-4486-a298-bf4abe7a5efb"
      },
      "source": [
        "# QUESTION 6\n",
        "\n",
        "if __name__ == '__main__':\n",
        "    s = input()\n",
        "    print(any([i.isalnum() for i in s]))\n",
        "    print(any([i.isalpha() for i in s]))\n",
        "    print(any([i.isdigit() for i in s]))\n",
        "    print(any([i.islower() for i in s]))\n",
        "    print(any([i.isupper() for i in s]))"
      ],
      "id": "arbitrary-settle",
      "execution_count": null,
      "outputs": [
        {
          "output_type": "stream",
          "text": [
            "qA2\n",
            "True\n",
            "True\n",
            "True\n",
            "True\n",
            "True\n"
          ],
          "name": "stdout"
        }
      ]
    },
    {
      "cell_type": "code",
      "metadata": {
        "id": "looking-concrete",
        "outputId": "2d7784b0-8860-4fb6-9a18-796c7311c24c"
      },
      "source": [
        "# question 7\n",
        "\n",
        "\n",
        "thickness = int(input()) #This must be an odd number\n",
        "c = 'H'\n",
        "\n",
        "#Top Cone\n",
        "for i in range(thickness):\n",
        "    print((c*i).rjust(thickness-1)+c+(c*i).ljust(thickness-1))\n",
        "\n",
        "#Top Pillars\n",
        "for i in range(thickness+1):\n",
        "    print((c*thickness).center(thickness*2)+(c*thickness).center(thickness*6))\n",
        "\n",
        "#Middle Belt\n",
        "for i in range((thickness+1)//2):\n",
        "    print((c*thickness*5).center(thickness*6))    \n",
        "\n",
        "#Bottom Pillars\n",
        "for i in range(thickness+1):\n",
        "    print((c*thickness).center(thickness*2)+(c*thickness).center(thickness*6))    \n",
        "\n",
        "#Bottom Cone\n",
        "for i in range(thickness):\n",
        "    print(((c*(thickness-i-1)).rjust(thickness)+c+(c*(thickness-i-1)).ljust(thickness)).rjust(thickness*6))"
      ],
      "id": "looking-concrete",
      "execution_count": null,
      "outputs": [
        {
          "output_type": "stream",
          "text": [
            "5\n",
            "    H    \n",
            "   HHH   \n",
            "  HHHHH  \n",
            " HHHHHHH \n",
            "HHHHHHHHH\n",
            "  HHHHH               HHHHH             \n",
            "  HHHHH               HHHHH             \n",
            "  HHHHH               HHHHH             \n",
            "  HHHHH               HHHHH             \n",
            "  HHHHH               HHHHH             \n",
            "  HHHHH               HHHHH             \n",
            "  HHHHHHHHHHHHHHHHHHHHHHHHH   \n",
            "  HHHHHHHHHHHHHHHHHHHHHHHHH   \n",
            "  HHHHHHHHHHHHHHHHHHHHHHHHH   \n",
            "  HHHHH               HHHHH             \n",
            "  HHHHH               HHHHH             \n",
            "  HHHHH               HHHHH             \n",
            "  HHHHH               HHHHH             \n",
            "  HHHHH               HHHHH             \n",
            "  HHHHH               HHHHH             \n",
            "                    HHHHHHHHH \n",
            "                     HHHHHHH  \n",
            "                      HHHHH   \n",
            "                       HHH    \n",
            "                        H     \n"
          ],
          "name": "stdout"
        }
      ]
    },
    {
      "cell_type": "code",
      "metadata": {
        "id": "abandoned-backup",
        "outputId": "958285d9-1059-4423-deab-13588680b448"
      },
      "source": [
        "# question 8\n",
        "\n",
        "import textwrap\n",
        "\n",
        "def wrap(string, max_width):\n",
        "    return textwrap.fill(string,max_width)\n",
        "\n",
        "if __name__ == '__main__':\n",
        "    string, max_width = input(), int(input())\n",
        "    result = wrap(string, max_width)\n",
        "    print(result)"
      ],
      "id": "abandoned-backup",
      "execution_count": null,
      "outputs": [
        {
          "output_type": "stream",
          "text": [
            "ABCDEFGHIJKLIMNOQRSTUVWXYZ \n",
            "4\n",
            "ABCD\n",
            "EFGH\n",
            "IJKL\n",
            "IMNO\n",
            "QRST\n",
            "UVWX\n",
            "YZ\n"
          ],
          "name": "stdout"
        }
      ]
    },
    {
      "cell_type": "code",
      "metadata": {
        "id": "stopped-swiss",
        "outputId": "8fe72f59-49cf-4a13-e6ce-cd06e5d39fa2"
      },
      "source": [
        "# QUESTION 9\n",
        "\n",
        "rows,columns = map(int,input().split())\n",
        "middle = rows//2+1\n",
        "for i in range(1,middle):\n",
        "    center = (i*2-1)*\".|.\" \n",
        "    print(center.center(columns,\"-\"))\n",
        "print(\"WELCOME\".center(columns,\"-\"))\n",
        "for i in reversed(range(1,middle)):\n",
        "    center = (i*2-1)*\".|.\"\n",
        "    print(center.center(columns,\"-\"))"
      ],
      "id": "stopped-swiss",
      "execution_count": null,
      "outputs": [
        {
          "output_type": "stream",
          "text": [
            "9 27\n",
            "------------.|.------------\n",
            "---------.|..|..|.---------\n",
            "------.|..|..|..|..|.------\n",
            "---.|..|..|..|..|..|..|.---\n",
            "----------WELCOME----------\n",
            "---.|..|..|..|..|..|..|.---\n",
            "------.|..|..|..|..|.------\n",
            "---------.|..|..|.---------\n",
            "------------.|.------------\n"
          ],
          "name": "stdout"
        }
      ]
    },
    {
      "cell_type": "code",
      "metadata": {
        "id": "decent-privacy",
        "outputId": "c6f1e1be-f6cf-497e-8c1b-48fe12ebbdb3"
      },
      "source": [
        "# question 10\n",
        "\n",
        "def print_formatted(number):\n",
        "    # your code goes here\n",
        "    binn = bin(n).replace(\"0b\",\"\")\n",
        "    for i in range(1,number+1):\n",
        "        deci = str(i)\n",
        "        deci = (len(binn)-len(deci))*\" \"+deci\n",
        "        \n",
        "        octa = oct(i).replace(\"0o\",\"\")\n",
        "        octa = (len(binn)-len(octa))*\" \"+octa\n",
        "        \n",
        "        hexi = hex(i).replace(\"0x\",\"\").upper()\n",
        "        hexi = (len(binn)-len(hexi))*\" \"+hexi\n",
        "        \n",
        "        bina = bin(i).replace(\"0b\",\"\")\n",
        "        bina = (len(binn)-len(bina))*\" \"+bina\n",
        "        print(deci,octa,hexi,bina)\n",
        "\n",
        "if __name__ == '__main__':\n",
        "    n = int(input())\n",
        "    print_formatted(n)"
      ],
      "id": "decent-privacy",
      "execution_count": null,
      "outputs": [
        {
          "output_type": "stream",
          "text": [
            "17\n",
            "    1     1     1     1\n",
            "    2     2     2    10\n",
            "    3     3     3    11\n",
            "    4     4     4   100\n",
            "    5     5     5   101\n",
            "    6     6     6   110\n",
            "    7     7     7   111\n",
            "    8    10     8  1000\n",
            "    9    11     9  1001\n",
            "   10    12     A  1010\n",
            "   11    13     B  1011\n",
            "   12    14     C  1100\n",
            "   13    15     D  1101\n",
            "   14    16     E  1110\n",
            "   15    17     F  1111\n",
            "   16    20    10 10000\n",
            "   17    21    11 10001\n"
          ],
          "name": "stdout"
        }
      ]
    },
    {
      "cell_type": "code",
      "metadata": {
        "id": "utility-finnish",
        "outputId": "1e111355-050d-4adb-fcf6-2d010cf6445d"
      },
      "source": [
        "# question 11\n",
        "\n",
        "def print_rangoli(size):\n",
        "    # your code goes here\n",
        "    import string\n",
        "    alphabet = string.ascii_lowercase\n",
        "    rows = (size*2) - 1\n",
        "    width = (rows*2) - 1\n",
        "    s = alphabet[:size]\n",
        "    for i in range(1, size+1):\n",
        "        r = s[::-1][:i]\n",
        "        print('-'.join(r+r[:i-1][::-1]).center(width, '-'))\n",
        "\n",
        "    for i in range(size-1, 0, -1):\n",
        "        r = s[::-1][:i]\n",
        "        print('-'.join(r+r[:i-1][::-1]).center(width, '-'))\n",
        "if __name__ == '__main__':\n",
        "     int(input())\n",
        "     print_rangoli(n)"
      ],
      "id": "utility-finnish",
      "execution_count": null,
      "outputs": [
        {
          "output_type": "stream",
          "text": [
            "5\n",
            "--------------------------------q--------------------------------\n",
            "------------------------------q-p-q------------------------------\n",
            "----------------------------q-p-o-p-q----------------------------\n",
            "--------------------------q-p-o-n-o-p-q--------------------------\n",
            "------------------------q-p-o-n-m-n-o-p-q------------------------\n",
            "----------------------q-p-o-n-m-l-m-n-o-p-q----------------------\n",
            "--------------------q-p-o-n-m-l-k-l-m-n-o-p-q--------------------\n",
            "------------------q-p-o-n-m-l-k-j-k-l-m-n-o-p-q------------------\n",
            "----------------q-p-o-n-m-l-k-j-i-j-k-l-m-n-o-p-q----------------\n",
            "--------------q-p-o-n-m-l-k-j-i-h-i-j-k-l-m-n-o-p-q--------------\n",
            "------------q-p-o-n-m-l-k-j-i-h-g-h-i-j-k-l-m-n-o-p-q------------\n",
            "----------q-p-o-n-m-l-k-j-i-h-g-f-g-h-i-j-k-l-m-n-o-p-q----------\n",
            "--------q-p-o-n-m-l-k-j-i-h-g-f-e-f-g-h-i-j-k-l-m-n-o-p-q--------\n",
            "------q-p-o-n-m-l-k-j-i-h-g-f-e-d-e-f-g-h-i-j-k-l-m-n-o-p-q------\n",
            "----q-p-o-n-m-l-k-j-i-h-g-f-e-d-c-d-e-f-g-h-i-j-k-l-m-n-o-p-q----\n",
            "--q-p-o-n-m-l-k-j-i-h-g-f-e-d-c-b-c-d-e-f-g-h-i-j-k-l-m-n-o-p-q--\n",
            "q-p-o-n-m-l-k-j-i-h-g-f-e-d-c-b-a-b-c-d-e-f-g-h-i-j-k-l-m-n-o-p-q\n",
            "--q-p-o-n-m-l-k-j-i-h-g-f-e-d-c-b-c-d-e-f-g-h-i-j-k-l-m-n-o-p-q--\n",
            "----q-p-o-n-m-l-k-j-i-h-g-f-e-d-c-d-e-f-g-h-i-j-k-l-m-n-o-p-q----\n",
            "------q-p-o-n-m-l-k-j-i-h-g-f-e-d-e-f-g-h-i-j-k-l-m-n-o-p-q------\n",
            "--------q-p-o-n-m-l-k-j-i-h-g-f-e-f-g-h-i-j-k-l-m-n-o-p-q--------\n",
            "----------q-p-o-n-m-l-k-j-i-h-g-f-g-h-i-j-k-l-m-n-o-p-q----------\n",
            "------------q-p-o-n-m-l-k-j-i-h-g-h-i-j-k-l-m-n-o-p-q------------\n",
            "--------------q-p-o-n-m-l-k-j-i-h-i-j-k-l-m-n-o-p-q--------------\n",
            "----------------q-p-o-n-m-l-k-j-i-j-k-l-m-n-o-p-q----------------\n",
            "------------------q-p-o-n-m-l-k-j-k-l-m-n-o-p-q------------------\n",
            "--------------------q-p-o-n-m-l-k-l-m-n-o-p-q--------------------\n",
            "----------------------q-p-o-n-m-l-m-n-o-p-q----------------------\n",
            "------------------------q-p-o-n-m-n-o-p-q------------------------\n",
            "--------------------------q-p-o-n-o-p-q--------------------------\n",
            "----------------------------q-p-o-p-q----------------------------\n",
            "------------------------------q-p-q------------------------------\n",
            "--------------------------------q--------------------------------\n"
          ],
          "name": "stdout"
        }
      ]
    },
    {
      "cell_type": "code",
      "metadata": {
        "colab": {
          "base_uri": "https://localhost:8080/"
        },
        "id": "vanilla-earth",
        "outputId": "20736131-2fc3-4bd5-9248-e69b81d98b92"
      },
      "source": [
        "# QUESTION 12\n",
        "s = input()\n",
        "for x in s[:].split():\n",
        "    s = s.replace(x, x.capitalize())\n",
        "print(s)"
      ],
      "id": "vanilla-earth",
      "execution_count": 8,
      "outputs": [
        {
          "output_type": "stream",
          "text": [
            "amit yadav\n",
            "Amit Yadav\n"
          ],
          "name": "stdout"
        }
      ]
    },
    {
      "cell_type": "code",
      "metadata": {
        "id": "failing-compensation",
        "outputId": "caad00ee-e64a-45bd-8e89-15827ee481e8"
      },
      "source": [
        "# question 13\n",
        "\n",
        "def minion_game(string):\n",
        "    # your code goes here\n",
        "    scores = {\"Kevin\": 0, \"Stuart\": 0}\n",
        "    for i in range(len(string)):\n",
        "        if string[i] in \"AEIOU\":\n",
        "            scores[\"Kevin\"]+=len(string)-i\n",
        "        else:\n",
        "            scores[\"Stuart\"]+=len(string)-i\n",
        "    if scores[\"Stuart\"] == scores[\"Kevin\"]:\n",
        "        print(\"Draw\")\n",
        "    elif scores[\"Stuart\"] > scores[\"Kevin\"]:\n",
        "        print(\"%s %s\" %(\"Stuart\", scores[\"Stuart\"]))\n",
        "    else:\n",
        "        print(\"%s %s\" %(\"Kevin\", scores[\"Kevin\"]))\n",
        "if __name__ == '__main__':\n",
        "    s = input()\n",
        "    minion_game(s)"
      ],
      "id": "failing-compensation",
      "execution_count": null,
      "outputs": [
        {
          "output_type": "stream",
          "text": [
            "BANANA\n",
            "Stuart 12\n"
          ],
          "name": "stdout"
        }
      ]
    },
    {
      "cell_type": "code",
      "metadata": {
        "id": "comic-shareware",
        "outputId": "1ec23112-74dd-4fb0-ef30-54c820d10688"
      },
      "source": [
        "# QUESTION 14\n",
        "\n",
        "def merge_the_tools(string, k):\n",
        "    # your code goes here\n",
        "    m=0\n",
        "    res=[]\n",
        "    for i in range(k,len(string) + 1, k):\n",
        "        l=list(string[m:i])\n",
        "        m += k\n",
        "        for o in l:\n",
        "            if o not in res:\n",
        "                res.append(o)\n",
        "        for j in res:\n",
        "            print(j,end=\"\")\n",
        "        res.clear()\n",
        "        print()\n",
        "if __name__ == '__main__':\n",
        "    string, k = input(), int(input())\n",
        "    merge_the_tools(string, k)"
      ],
      "id": "comic-shareware",
      "execution_count": null,
      "outputs": [
        {
          "output_type": "stream",
          "text": [
            "AABCAAADA\n",
            "3\n",
            "AB\n",
            "CA\n",
            "AD\n"
          ],
          "name": "stdout"
        }
      ]
    },
    {
      "cell_type": "code",
      "metadata": {
        "id": "specialized-sheffield"
      },
      "source": [
        ""
      ],
      "id": "specialized-sheffield",
      "execution_count": null,
      "outputs": []
    }
  ]
}